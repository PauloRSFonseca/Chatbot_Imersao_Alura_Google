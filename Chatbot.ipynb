{
  "nbformat": 4,
  "nbformat_minor": 0,
  "metadata": {
    "colab": {
      "provenance": [],
      "authorship_tag": "ABX9TyPXLN2R5dtgnEwzxBK3D89b",
      "include_colab_link": true
    },
    "kernelspec": {
      "name": "python3",
      "display_name": "Python 3"
    },
    "language_info": {
      "name": "python"
    }
  },
  "cells": [
    {
      "cell_type": "markdown",
      "metadata": {
        "id": "view-in-github",
        "colab_type": "text"
      },
      "source": [
        "<a href=\"https://colab.research.google.com/github/PauloRSFonseca/Chatbot_Imersao_Alura_Google/blob/main/Chatbot.ipynb\" target=\"_parent\"><img src=\"https://colab.research.google.com/assets/colab-badge.svg\" alt=\"Open In Colab\"/></a>"
      ]
    },
    {
      "cell_type": "markdown",
      "source": [
        "Instalando o SDK do Google"
      ],
      "metadata": {
        "id": "GDhV6ZshZevU"
      }
    },
    {
      "cell_type": "code",
      "execution_count": 14,
      "metadata": {
        "id": "Ljq50tC9ZPvm"
      },
      "outputs": [],
      "source": [
        "!pip install -q -U google-generativeai # usado para instalar a biblioteca google-generativeai no Python\n",
        "# ! indica ao sistema que o comando subsequente deve ser executado no shell, usado para instalar e gerenciar bibliotecas\n",
        "# install indica que o comando deseja instalar uma biblioteca\n",
        "# pip é o gerenciador de pacotes padrão do Python\n",
        "# -q é usado para ter um resultado silencioso, suprimindo a exibição de mensagens de progesso durante a instalação (quiet)\n",
        "# -U é usada para fazer update do google generativeai, instalando a versão mais recente (Update)\n",
        "# google-generativeai é a biblioteca que será instalada"
      ]
    },
    {
      "cell_type": "code",
      "execution_count": 15,
      "metadata": {
        "id": "HTiaTu6O1LRC"
      },
      "outputs": [],
      "source": [
        "# configura seu ambiente para usar a biblioteca google-generativeai para geração de texto\n",
        "import google.generativeai as julIA # importa a biblioteca e da um apelido a ela julIA\n",
        "# importa a função userdata do Colab, usada para gerenciar dados na sua unidade do Google Drive montada no Colab\n",
        "from google.colab import userdata\n",
        "api_key = userdata.get('SECRET_KEY')\n",
        "\n",
        "julIA.configure(api_key=api_key) #configura a biblioteca usando a chave de API definida, permite que use os modelos de geração de texto do Google"
      ]
    },
    {
      "cell_type": "markdown",
      "source": [
        "Listar os modelos disponíveis"
      ],
      "metadata": {
        "id": "sYThy2wFaIju"
      }
    },
    {
      "cell_type": "code",
      "source": [
        "# lista os modelos disponíveis na biblioteca google-generativeai e imprime os nome dos modelos que suportam o método de geração de conteúdo\n",
        "for m in julIA.list_models():\n",
        "  if 'generateContent' in m.supported_generation_methods:\n",
        "    print(m.name)"
      ],
      "metadata": {
        "colab": {
          "base_uri": "https://localhost:8080/",
          "height": 139
        },
        "id": "cgmg2qqhaXRu",
        "outputId": "05e2cae7-f852-4b7b-c386-7de200904482"
      },
      "execution_count": 16,
      "outputs": [
        {
          "output_type": "stream",
          "name": "stdout",
          "text": [
            "models/gemini-1.0-pro\n",
            "models/gemini-1.0-pro-001\n",
            "models/gemini-1.0-pro-latest\n",
            "models/gemini-1.0-pro-vision-latest\n",
            "models/gemini-1.5-pro-latest\n",
            "models/gemini-pro\n",
            "models/gemini-pro-vision\n"
          ]
        }
      ]
    },
    {
      "cell_type": "code",
      "source": [
        "# define um dicionário que contém configurações para a geração de texto\n",
        "generation_config = {\n",
        "    'candidate_count': 1, # especifica o número de candidatos de texto a serem gerados\n",
        "    'temperature': 0.5, # controla a criatividade e a aleatoriedade da geração de texto\n",
        "}"
      ],
      "metadata": {
        "id": "eHXkeMK9eyn1"
      },
      "execution_count": 17,
      "outputs": []
    },
    {
      "cell_type": "markdown",
      "source": [
        "Configurando os Padrões de Segurança"
      ],
      "metadata": {
        "id": "-DcqRaoNgRTB"
      }
    },
    {
      "cell_type": "code",
      "source": [
        "safety_settings = {\n",
        "    'HARASSMENT': 'BLOCK_NONE',\n",
        "    'HATE': 'BLOCK_NONE',\n",
        "    'SEXUAL': 'BLOCK_NONE',\n",
        "    'DANGEROUS': 'BLOCK_NONE',\n",
        "}"
      ],
      "metadata": {
        "id": "Jh0eqJW5fVZo"
      },
      "execution_count": 18,
      "outputs": []
    },
    {
      "cell_type": "code",
      "source": [
        "model = julIA.GenerativeModel(model_name='gemini-1.0-pro',\n",
        "                              generation_config=generation_config,\n",
        "                              safety_settings=safety_settings)"
      ],
      "metadata": {
        "id": "1Rs7DbDZkEwv"
      },
      "execution_count": 19,
      "outputs": []
    },
    {
      "cell_type": "code",
      "source": [
        "response = model.generate_content('Vamos estudar conteúdo sobre IA. Me dê sugestões')\n",
        "print(response.text)"
      ],
      "metadata": {
        "colab": {
          "base_uri": "https://localhost:8080/",
          "height": 694
        },
        "id": "4qyaZIEhlo1r",
        "outputId": "23977974-fa91-47e9-e12d-032851b5da21"
      },
      "execution_count": 21,
      "outputs": [
        {
          "output_type": "stream",
          "name": "stdout",
          "text": [
            "**Livros:**\n",
            "\n",
            "* **Inteligência Artificial: Uma Abordagem Moderna (3ª edição)** por Stuart Russell e Peter Norvig\n",
            "* **Aprendizado de Máquina** por Tom M. Mitchell\n",
            "* **Aprendizado Profundo** por Ian Goodfellow, Yoshua Bengio e Aaron Courville\n",
            "* **Inteligência Artificial: Um Guia Moderno** por Melanie Mitchell\n",
            "* **Inteligência Artificial e Aprendizado de Máquina para Iniciantes** por Aurélien Géron\n",
            "\n",
            "**Cursos Online:**\n",
            "\n",
            "* **Inteligência Artificial (IA)** pela Coursera\n",
            "* **Aprendizado de Máquina** pela edX\n",
            "* **Aprendizado Profundo Especialização** pela Coursera\n",
            "* **Inteligência Artificial para Negócios** pela Udemy\n",
            "* **Introdução à Inteligência Artificial** pela Udacity\n",
            "\n",
            "**Tutoriais:**\n",
            "\n",
            "* **TensorFlow Tutorial**\n",
            "* **PyTorch Tutorial**\n",
            "* **Keras Tutorial**\n",
            "* **Scikit-learn Tutorial**\n",
            "* **OpenCV Tutorial**\n",
            "\n",
            "**Artigos de Pesquisa:**\n",
            "\n",
            "* **AlphaGo: Dominando o jogo Go com aprendizado profundo** por David Silver et al.\n",
            "* **Transformer: Um modelo de atenção para processamento de sequência** por Ashish Vaswani et al.\n",
            "* **GPT-3: Geração de linguagem de grande escala** por Tom B. Brown et al.\n",
            "* **BERT: Representações aprendidas bidirecionais de transformadores** por Jacob Devlin et al.\n",
            "* **Aprendizado por Reforço Profundo** por Volodymyr Mnih et al.\n",
            "\n",
            "**Conferências e Eventos:**\n",
            "\n",
            "* **Conferência Internacional sobre Aprendizado de Máquina (ICML)**\n",
            "* **Conferência Internacional sobre Inteligência Artificial (IJCAI)**\n",
            "* **Conferência sobre Visão Computacional e Reconhecimento de Padrões (CVPR)**\n",
            "* **Conferência Internacional sobre Processamento de Linguagem Natural (ACL)**\n",
            "* **Conferência Internacional sobre Robótica e Automação (ICRA)**\n"
          ]
        }
      ]
    },
    {
      "cell_type": "code",
      "source": [
        "chat = model.start_chat(history=[])"
      ],
      "metadata": {
        "id": "GH_WFg6qm3JS"
      },
      "execution_count": 25,
      "outputs": []
    },
    {
      "cell_type": "code",
      "source": [
        "import time\n",
        "print('Olá, meu nome é julIA, o chatbot da imersão da Alura e do Google')\n",
        "prompt = input('Em que posso ajudar hoje?\\n\\n')\n",
        "while prompt != \"fim\":\n",
        "    # Envia a mensagem do prompt para o usuário\n",
        "    response = chat.send_message(prompt)\n",
        "    print(response.text, \"\\n\")\n",
        "\n",
        "    # Loop para verificar a resposta do usuário\n",
        "    while True:\n",
        "        # Pega a entrada do usuário\n",
        "        prompt = input('Quer saber de algo mais?\\n\\n')\n",
        "\n",
        "        # Envia a resposta do chatbot para o usuário\n",
        "        response = chat.send_message(prompt)\n",
        "        print(response.text, \"\\n\")\n",
        "\n",
        "        # Verifica se o usuário deseja finalizar o chat\n",
        "        if prompt == \"fim\":\n",
        "          # Encerra o chat e exibe a mensagem de despedida\n",
        "            print(\"Obrigado por utilizar o chatbot da Imersão IA!\")\n",
        "            break"
      ],
      "metadata": {
        "colab": {
          "base_uri": "https://localhost:8080/",
          "height": 373
        },
        "id": "osl5_Z5aqEvT",
        "outputId": "d89a6dfa-dab3-47a3-949e-c70300eddfab"
      },
      "execution_count": 72,
      "outputs": [
        {
          "output_type": "stream",
          "name": "stdout",
          "text": [
            "Olá, meu nome é julIA, o chatbot da imersão da Alura e do Google\n"
          ]
        },
        {
          "output_type": "error",
          "ename": "KeyboardInterrupt",
          "evalue": "Interrupted by user",
          "traceback": [
            "\u001b[0;31m---------------------------------------------------------------------------\u001b[0m",
            "\u001b[0;31mKeyboardInterrupt\u001b[0m                         Traceback (most recent call last)",
            "\u001b[0;32m<ipython-input-72-e8fc8003ad16>\u001b[0m in \u001b[0;36m<cell line: 3>\u001b[0;34m()\u001b[0m\n\u001b[1;32m      1\u001b[0m \u001b[0;32mimport\u001b[0m \u001b[0mtime\u001b[0m\u001b[0;34m\u001b[0m\u001b[0;34m\u001b[0m\u001b[0m\n\u001b[1;32m      2\u001b[0m \u001b[0mprint\u001b[0m\u001b[0;34m(\u001b[0m\u001b[0;34m'Olá, meu nome é julIA, o chatbot da imersão da Alura e do Google'\u001b[0m\u001b[0;34m)\u001b[0m\u001b[0;34m\u001b[0m\u001b[0;34m\u001b[0m\u001b[0m\n\u001b[0;32m----> 3\u001b[0;31m \u001b[0mprompt\u001b[0m \u001b[0;34m=\u001b[0m \u001b[0minput\u001b[0m\u001b[0;34m(\u001b[0m\u001b[0;34m'Em que posso ajudar hoje?\\n\\n'\u001b[0m\u001b[0;34m)\u001b[0m\u001b[0;34m\u001b[0m\u001b[0;34m\u001b[0m\u001b[0m\n\u001b[0m\u001b[1;32m      4\u001b[0m \u001b[0;32mwhile\u001b[0m \u001b[0mprompt\u001b[0m \u001b[0;34m!=\u001b[0m \u001b[0;34m\"fim\"\u001b[0m\u001b[0;34m:\u001b[0m\u001b[0;34m\u001b[0m\u001b[0;34m\u001b[0m\u001b[0m\n\u001b[1;32m      5\u001b[0m     \u001b[0;31m# Envia a mensagem do prompt para o usuário\u001b[0m\u001b[0;34m\u001b[0m\u001b[0;34m\u001b[0m\u001b[0m\n",
            "\u001b[0;32m/usr/local/lib/python3.10/dist-packages/ipykernel/kernelbase.py\u001b[0m in \u001b[0;36mraw_input\u001b[0;34m(self, prompt)\u001b[0m\n\u001b[1;32m    849\u001b[0m                 \u001b[0;34m\"raw_input was called, but this frontend does not support input requests.\"\u001b[0m\u001b[0;34m\u001b[0m\u001b[0;34m\u001b[0m\u001b[0m\n\u001b[1;32m    850\u001b[0m             )\n\u001b[0;32m--> 851\u001b[0;31m         return self._input_request(str(prompt),\n\u001b[0m\u001b[1;32m    852\u001b[0m             \u001b[0mself\u001b[0m\u001b[0;34m.\u001b[0m\u001b[0m_parent_ident\u001b[0m\u001b[0;34m,\u001b[0m\u001b[0;34m\u001b[0m\u001b[0;34m\u001b[0m\u001b[0m\n\u001b[1;32m    853\u001b[0m             \u001b[0mself\u001b[0m\u001b[0;34m.\u001b[0m\u001b[0m_parent_header\u001b[0m\u001b[0;34m,\u001b[0m\u001b[0;34m\u001b[0m\u001b[0;34m\u001b[0m\u001b[0m\n",
            "\u001b[0;32m/usr/local/lib/python3.10/dist-packages/ipykernel/kernelbase.py\u001b[0m in \u001b[0;36m_input_request\u001b[0;34m(self, prompt, ident, parent, password)\u001b[0m\n\u001b[1;32m    893\u001b[0m             \u001b[0;32mexcept\u001b[0m \u001b[0mKeyboardInterrupt\u001b[0m\u001b[0;34m:\u001b[0m\u001b[0;34m\u001b[0m\u001b[0;34m\u001b[0m\u001b[0m\n\u001b[1;32m    894\u001b[0m                 \u001b[0;31m# re-raise KeyboardInterrupt, to truncate traceback\u001b[0m\u001b[0;34m\u001b[0m\u001b[0;34m\u001b[0m\u001b[0m\n\u001b[0;32m--> 895\u001b[0;31m                 \u001b[0;32mraise\u001b[0m \u001b[0mKeyboardInterrupt\u001b[0m\u001b[0;34m(\u001b[0m\u001b[0;34m\"Interrupted by user\"\u001b[0m\u001b[0;34m)\u001b[0m \u001b[0;32mfrom\u001b[0m \u001b[0;32mNone\u001b[0m\u001b[0;34m\u001b[0m\u001b[0;34m\u001b[0m\u001b[0m\n\u001b[0m\u001b[1;32m    896\u001b[0m             \u001b[0;32mexcept\u001b[0m \u001b[0mException\u001b[0m \u001b[0;32mas\u001b[0m \u001b[0me\u001b[0m\u001b[0;34m:\u001b[0m\u001b[0;34m\u001b[0m\u001b[0;34m\u001b[0m\u001b[0m\n\u001b[1;32m    897\u001b[0m                 \u001b[0mself\u001b[0m\u001b[0;34m.\u001b[0m\u001b[0mlog\u001b[0m\u001b[0;34m.\u001b[0m\u001b[0mwarning\u001b[0m\u001b[0;34m(\u001b[0m\u001b[0;34m\"Invalid Message:\"\u001b[0m\u001b[0;34m,\u001b[0m \u001b[0mexc_info\u001b[0m\u001b[0;34m=\u001b[0m\u001b[0;32mTrue\u001b[0m\u001b[0;34m)\u001b[0m\u001b[0;34m\u001b[0m\u001b[0;34m\u001b[0m\u001b[0m\n",
            "\u001b[0;31mKeyboardInterrupt\u001b[0m: Interrupted by user"
          ]
        }
      ]
    }
  ]
}
